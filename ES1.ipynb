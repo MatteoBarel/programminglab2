{
 "cells": [
  {
   "cell_type": "markdown",
   "id": "49031d6d",
   "metadata": {},
   "source": [
    "# **ESERCIZI LEZIONE 1**"
   ]
  },
  {
   "cell_type": "markdown",
   "id": "a76f9ca7",
   "metadata": {},
   "source": [
    "## ***ESERCIZIO 1***"
   ]
  },
  {
   "cell_type": "markdown",
   "id": "b66d8baf",
   "metadata": {},
   "source": [
    "### *ESEMPIO 1*"
   ]
  },
  {
   "cell_type": "code",
   "execution_count": null,
   "id": "02675211",
   "metadata": {},
   "outputs": [
    {
     "name": "stdout",
     "output_type": "stream",
     "text": [
      "[0, 1, 2, 3, 4, 5, 6, 7, 8, 9]\n"
     ]
    }
   ],
   "source": [
    "lista1=[]\n",
    "for i in range(10):\n",
    "    lista1.append(i)\n",
    "print(lista1)"
   ]
  },
  {
   "cell_type": "code",
   "execution_count": null,
   "id": "e2f19a44",
   "metadata": {},
   "outputs": [
    {
     "name": "stdout",
     "output_type": "stream",
     "text": [
      "[0, 1, 2, 3, 4, 5, 6, 7, 8, 9]\n"
     ]
    }
   ],
   "source": [
    "lista1=[i for i in range(10)]\n",
    "print(lista1)"
   ]
  },
  {
   "cell_type": "markdown",
   "id": "5b0af999",
   "metadata": {},
   "source": [
    "### *ESEMPIO 2*"
   ]
  },
  {
   "cell_type": "code",
   "execution_count": null,
   "id": "6af2f40c",
   "metadata": {},
   "outputs": [
    {
     "name": "stdout",
     "output_type": "stream",
     "text": [
      "['c', 'o', 'n', 't', 'e', 'm', 'p', 'o', 'r', 'a', 'n', 'e', 'a', 'm', 'e', 'n', 't', 'e']\n"
     ]
    }
   ],
   "source": [
    "lista2=[]\n",
    "for letter in \"contemporaneamente\":\n",
    "    lista2.append(letter)\n",
    "print(lista2)"
   ]
  },
  {
   "cell_type": "code",
   "execution_count": null,
   "id": "70f20102",
   "metadata": {},
   "outputs": [
    {
     "name": "stdout",
     "output_type": "stream",
     "text": [
      "['c', 'o', 'n', 't', 'e', 'm', 'p', 'o', 'r', 'a', 'n', 'e', 'a', 'm', 'e', 'n', 't', 'e']\n"
     ]
    }
   ],
   "source": [
    "lista2=[letter for letter in \"contemporaneamente\"]\n",
    "print(lista2)"
   ]
  },
  {
   "cell_type": "markdown",
   "id": "a28cdc6e",
   "metadata": {},
   "source": [
    "### *ESEMPIO 3*"
   ]
  },
  {
   "cell_type": "code",
   "execution_count": null,
   "id": "2a2f920b",
   "metadata": {},
   "outputs": [
    {
     "name": "stdout",
     "output_type": "stream",
     "text": [
      "[4, 9, 16, 25, 36, 49, 64, 81, 100]\n"
     ]
    }
   ],
   "source": [
    "lista3=[]\n",
    "for number in range(2,11):\n",
    "    lista3.append(number**2)\n",
    "print(lista3)"
   ]
  },
  {
   "cell_type": "code",
   "execution_count": null,
   "id": "0957a4f3",
   "metadata": {},
   "outputs": [
    {
     "name": "stdout",
     "output_type": "stream",
     "text": [
      "[4, 9, 16, 25, 36, 49, 64, 81, 100]\n"
     ]
    }
   ],
   "source": [
    "lista3=[number**2 for number in range(2,11)]\n",
    "print(lista3)"
   ]
  },
  {
   "cell_type": "markdown",
   "id": "0fcfc429",
   "metadata": {},
   "source": [
    "## ***ESERCIZIO 2***"
   ]
  },
  {
   "cell_type": "code",
   "execution_count": null,
   "id": "ea8e6756",
   "metadata": {},
   "outputs": [
    {
     "name": "stdout",
     "output_type": "stream",
     "text": [
      "4\n",
      "4\n",
      "int64\n",
      "[2, 3, 5, 7]\n"
     ]
    }
   ],
   "source": [
    "import numpy as np\n",
    "\n",
    "arr = np.array([2,3,5,7])\n",
    "print(len(arr))\n",
    "print(arr.size)\n",
    "\n",
    "print(arr.dtype)\n",
    "\n",
    "def primo(numero):\n",
    "    if numero<2:\n",
    "        return None\n",
    "    for i in range(2,int(numero**0.5)+1):\n",
    "        if numero%i == 0:\n",
    "            return None\n",
    "    return numero\n",
    "\n",
    "array = [i for i in [2,3,4,5,6,7,8,9,10] if primo(i) is not None]\n",
    "print(array)\n"
   ]
  },
  {
   "cell_type": "markdown",
   "id": "62261b7a",
   "metadata": {},
   "source": [
    "## ***ESERCIZIO 3***"
   ]
  },
  {
   "cell_type": "code",
   "execution_count": null,
   "id": "5e7a1618",
   "metadata": {},
   "outputs": [
    {
     "name": "stdout",
     "output_type": "stream",
     "text": [
      "[1 2 3 4 5]\n",
      "[2 3 4]\n",
      "[5 4 3 2 1]\n",
      "[0.2 0.5 1.  2.  5. ]\n",
      "[0.2 0.5 1.  2.  5. ]\n",
      "[0.2, 0.5, 1.0, 2.0, 5.0]\n"
     ]
    }
   ],
   "source": [
    "import numpy as np\n",
    "\n",
    "a = np.arange(1,6)\n",
    "b = a[1:4]\n",
    "c = a[::-1]\n",
    "division = a/c\n",
    "print(a)\n",
    "print(b)\n",
    "print(c)\n",
    "print(division)\n",
    "\n",
    "lista = list(a)\n",
    "listab=lista[1:4]\n",
    "listac=lista[::-1]\n",
    "division_lista= np.array(lista)/np.array(listac)\n",
    "print(division_lista)\n",
    "print(division_lista.tolist())"
   ]
  }
 ],
 "metadata": {
  "kernelspec": {
   "display_name": "myenv",
   "language": "python",
   "name": "python3"
  },
  "language_info": {
   "name": "python",
   "version": "3.9.21"
  }
 },
 "nbformat": 4,
 "nbformat_minor": 5
}
